{
 "cells": [
  {
   "cell_type": "markdown",
   "id": "634d798a",
   "metadata": {},
   "source": [
    "# Regressão Neural Manual Simples\n",
    "Este notebook demonstra a implementação de uma rede neural de regressão do zero, incluindo:\n",
    "\n",
    "- Remoção de outliers via IQR\n",
    "- Pré-processamento dos dados (normalização e split)\n",
    "- Definição de funções de ativação e perda\n",
    "- Classe de rede neural com uma camada oculta\n",
    "- Treinamento e relatório de pesos efetivos\n",
    "- Avaliação dos resultados e plotagem\n"
   ]
  },
  {
   "cell_type": "markdown",
   "id": "297c253a",
   "metadata": {},
   "source": [
    "## 0) Importações e Função de Remoção de Outliers\n",
    "A função `remove_outliers_iqr` aplica a regra do intervalo interquartil (IQR) para detectar e remover valores extremos em qualquer coluna numérica."
   ]
  },
  {
   "cell_type": "code",
   "execution_count": null,
   "id": "944ad0e3",
   "metadata": {},
   "outputs": [],
   "source": [
    "import pandas as pd\n",
    "import numpy as np\n",
    "\n",
    "def remove_outliers_iqr(df: pd.DataFrame, factor: float = 1.5, id_col: str = \"ID\") -> pd.DataFrame:\n",
    "    num_cols = [c for c in df.select_dtypes(exclude=\"object\").columns if c != id_col]\n",
    "    mask = pd.Series(False, index=df.index)\n",
    "    for col in num_cols:\n",
    "        Q1, Q3 = df[col].quantile([0.25, 0.75])\n",
    "        IQR = Q3 - Q1\n",
    "        lower, upper = Q1 - factor * IQR, Q3 + factor * IQR\n",
    "        mask |= (df[col] < lower) | (df[col] > upper)\n",
    "    if mask.any():\n",
    "        removed_ids = df.loc[mask, id_col].tolist()\n",
    "        print(f\"Outliers removidos (IDs): {removed_ids}\")\n",
    "    return df.loc[~mask].reset_index(drop=True)"
   ]
  },
  {
   "cell_type": "markdown",
   "id": "a4db4a6f",
   "metadata": {},
   "source": [
    "## 1) Pré-processamento dos Dados\n",
    "Carregamos o CSV, removemos outliers, separamos `X` e `y`, normalizamos com Min-Max e fizemos o split treino/teste."
   ]
  },
  {
   "cell_type": "code",
   "execution_count": null,
   "id": "f108d8ac",
   "metadata": {},
   "outputs": [],
   "source": [
    "from sklearn.model_selection import train_test_split\n",
    "\n",
    "def load_and_preprocess(filepath: str, factor: float = 1.5, test_size: float = 0.2, random_state: int = 42):\n",
    "    df = pd.read_csv(filepath)\n",
    "    df = remove_outliers_iqr(df, factor)\n",
    "    features = [c for c in df.columns if c not in (\"ID\", \"Price\")]\n",
    "    X_raw = df[features].values\n",
    "    y_raw = df[\"Price\"].values.reshape(-1, 1)\n",
    "    X_min, X_max = X_raw.min(axis=0), X_raw.max(axis=0)\n",
    "    X = (X_raw - X_min) / (X_max - X_min)\n",
    "    y_min, y_max = y_raw.min(), y_raw.max()\n",
    "    y = (y_raw - y_min) / (y_max - y_min)\n",
    "    return train_test_split(X, y, test_size=test_size, random_state=random_state) + (features, y_min, y_max)"
   ]
  },
  {
   "cell_type": "markdown",
   "id": "7045c2f3",
   "metadata": {},
   "source": [
    "## 2) Definição da Rede Neural\n",
    "Uma classe com:\n",
    "\n",
    "- `forward`: cálculo das ativações e predição\n",
    "- `backward`: atualização de pesos via retropropagação\n",
    "- `train`: loop de treinamento com impressão de loss"
   ]
  },
  {
   "cell_type": "code",
   "execution_count": null,
   "id": "2be99d77",
   "metadata": {},
   "outputs": [],
   "source": [
    "class NeuralNetwork:\n",
    "    def __init__(self, input_size: int, hidden_size: int, output_size: int, learning_rate: float):\n",
    "        self.W1 = np.random.randn(input_size, hidden_size) * np.sqrt(2 / input_size)\n",
    "        self.b1 = np.zeros((1, hidden_size))\n",
    "        self.W2 = np.random.randn(hidden_size, output_size) * np.sqrt(2 / hidden_size)\n",
    "        self.b2 = np.zeros((1, output_size))\n",
    "        self.lr = learning_rate\n",
    "\n",
    "    def forward(self, X: np.ndarray) -> np.ndarray:\n",
    "        self.Z1 = X.dot(self.W1) + self.b1\n",
    "        self.A1 = np.maximum(0, self.Z1)\n",
    "        return self.A1.dot(self.W2) + self.b2\n",
    "\n",
    "    def backward(self, X: np.ndarray, y_true: np.ndarray, y_pred: np.ndarray) -> None:\n",
    "        dZ2 = 2 * (y_pred - y_true) / y_true.size\n",
    "        dW2 = self.A1.T.dot(dZ2)\n",
    "        db2 = dZ2.sum(axis=0, keepdims=True)\n",
    "        dA1 = dZ2.dot(self.W2.T)\n",
    "        dZ1 = dA1 * (self.Z1 > 0)\n",
    "        dW1 = X.T.dot(dZ1)\n",
    "        db1 = dZ1.sum(axis=0, keepdims=True)\n",
    "        self.W2 -= self.lr * dW2\n",
    "        self.b2 -= self.lr * db2\n",
    "        self.W1 -= self.lr * dW1\n",
    "        self.b1 -= self.lr * db1\n",
    "\n",
    "    def train(self, X: np.ndarray, y: np.ndarray, epochs: int = 1000, print_every: int = 100) -> None:\n",
    "        for epoch in range(1, epochs + 1):\n",
    "            y_pred = self.forward(X)\n",
    "            loss = np.mean((y - y_pred) ** 2)\n",
    "            self.backward(X, y, y_pred)\n",
    "            if epoch == 1 or epoch % print_every == 0:\n",
    "                print(f\"Epoch {epoch:>4d}, Loss = {loss:.6f}\")\n",
    "\n",
    "    def get_feature_weights(self) -> np.ndarray:\n",
    "        return (self.W1.dot(self.W2)).flatten()"
   ]
  },
  {
   "cell_type": "markdown",
   "id": "64d05f1e",
   "metadata": {},
   "source": [
    "## 3) Treinamento e Relatório de Pesos\n",
    "Executamos o treinamento e exibimos os pesos efetivos por atributo."
   ]
  },
  {
   "cell_type": "code",
   "execution_count": null,
   "id": "34106b54",
   "metadata": {},
   "outputs": [],
   "source": [
    "# Execução principal\n",
    "filepath = 'real_estate_dataset.csv'\n",
    "X_train, X_test, y_train, y_test, features, y_min, y_max = load_and_preprocess(filepath)\n",
    "\n",
    "nn = NeuralNetwork(input_size=X_train.shape[1], hidden_size=256, output_size=1, learning_rate=0.015)\n",
    "print(\"Treinamento iniciado...\")\n",
    "nn.train(X_train, y_train, epochs=3000, print_every=200)\n",
    "print(\"Treinamento concluído.\")"
   ]
  },
  {
   "cell_type": "code",
   "execution_count": null,
   "id": "b2df17e6",
   "metadata": {},
   "outputs": [],
   "source": [
    "# Relatório de pesos\n",
    "weights = nn.get_feature_weights()\n",
    "print(\"\\nPesos efetivos por atributo:\")\n",
    "for name, w in zip(features, weights):\n",
    "    print(f\"{name:<20s}: {w:+.6f}\")"
   ]
  },
  {
   "cell_type": "markdown",
   "id": "acc9b029",
   "metadata": {},
   "source": [
    "## 4) Avaliação e Plotagem\n",
    "Calculamos MSE, R² e plotamos Real vs Predito."
   ]
  },
  {
   "cell_type": "code",
   "execution_count": null,
   "id": "4ae772cd",
   "metadata": {},
   "outputs": [],
   "source": [
    "from sklearn.metrics import r2_score\n",
    "import matplotlib.pyplot as plt\n",
    "\n",
    "y_pred_norm = nn.forward(X_test)\n",
    "y_pred = y_pred_norm * (y_max - y_min) + y_min\n",
    "y_actual = y_test * (y_max - y_min) + y_min\n",
    "\n",
    "mse = np.mean((y_actual - y_pred) ** 2)\n",
    "r2 = r2_score(y_actual, y_pred)\n",
    "print(f\"MSE no teste (real): {mse:.2f}\")\n",
    "print(f\"R² no teste: {r2:.4f}\")\n",
    "\n",
    "plt.figure(figsize=(6,6))\n",
    "plt.scatter(y_actual, y_pred, alpha=0.6, edgecolor='k')\n",
    "plt.plot([y_actual.min(), y_actual.max()], [y_actual.min(), y_actual.max()], 'r', linewidth=2)\n",
    "plt.xlabel('Preço Real')\n",
    "plt.ylabel('Preço Predito')\n",
    "plt.title('Real vs Predito')\n",
    "plt.tight_layout()\n",
    "plt.show()"
   ]
  },
  {
   "cell_type": "markdown",
   "id": "fd750c5b",
   "metadata": {},
   "source": [
    "### Fim do notebook\n",
    "Este notebook ilustra passo a passo a implementação manual de uma rede neural de regressão com remoção de outliers."
   ]
  }
 ],
 "metadata": {},
 "nbformat": 4,
 "nbformat_minor": 5
}
