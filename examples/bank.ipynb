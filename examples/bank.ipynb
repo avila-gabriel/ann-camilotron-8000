{
 "cells": [
  {
   "cell_type": "markdown",
   "metadata": {},
   "source": [
    "# Binary Classification of Term Deposit Subscription\n",
    "\n",
    "This notebook implements a binary classification pipeline using a neural network built with JAX. The model predicts whether a customer will subscribe to a term deposit, based on features from the Bank Marketing dataset.\n",
    "\n",
    "Dataset source: [Bank Marketing Dataset on Kaggle](https://www.kaggle.com/datasets/janiobachmann/bank-marketing-dataset/data)"
   ]
  },
  {
   "cell_type": "code",
   "execution_count": null,
   "metadata": {},
   "outputs": [],
   "source": [
    "import jax.numpy as jnp\n",
    "import matplotlib.pyplot as plt\n",
    "import numpy as np\n",
    "import pandas as pd\n",
    "from sklearn.metrics import accuracy_score, confusion_matrix\n",
    "from sklearn.model_selection import train_test_split\n",
    "\n",
    "import src.lib.nn_functional as nn"
   ]
  },
  {
   "cell_type": "markdown",
   "metadata": {},
   "source": [
    "## Load and prepare data\n",
    "Target variable is `deposit`, which is mapped to 1 for 'yes' and 0 for 'no'."
   ]
  },
  {
   "cell_type": "code",
   "execution_count": null,
   "metadata": {},
   "outputs": [],
   "source": [
    "df = pd.read_csv(\"datasets/bank.csv\")\n",
    "df[\"y\"] = df[\"deposit\"].map({\"yes\": 1, \"no\": 0})\n",
    "df = df.drop(columns=[\"deposit\"])"
   ]
  },
  {
   "cell_type": "markdown",
   "metadata": {},
   "source": [
    "## Preprocessing\n",
    "- One-hot encoding for categorical columns.\n",
    "- Min-max normalization for selected numeric columns.\n",
    "- Concatenation of both feature types into the input matrix."
   ]
  },
  {
   "cell_type": "code",
   "execution_count": null,
   "metadata": {},
   "outputs": [],
   "source": [
    "CAT_COLS = [\n",
    "    \"job\",\n",
    "    \"marital\",\n",
    "    \"education\",\n",
    "    \"default\",\n",
    "    \"housing\",\n",
    "    \"loan\",\n",
    "    \"contact\",\n",
    "    \"month\",\n",
    "    \"day\",\n",
    "    \"poutcome\",\n",
    "]\n",
    "NUM_COLS = [\"age\", \"balance\", \"campaign\"]\n",
    "\n",
    "df_cat = pd.get_dummies(df[CAT_COLS], drop_first=True).astype(float)\n",
    "\n",
    "X_num = df[NUM_COLS].astype(float).values\n",
    "X_min = X_num.min(axis=0, keepdims=True)\n",
    "X_max = X_num.max(axis=0, keepdims=True)\n",
    "X_num_norm = (X_num - X_min) / (X_max - X_min + 1e-8)\n",
    "df_num = pd.DataFrame(X_num_norm, columns=NUM_COLS, index=df.index)\n",
    "\n",
    "X = pd.concat([df_num, df_cat], axis=1).astype(float).values\n",
    "y = df[\"y\"].values.reshape(1, -1)"
   ]
  },
  {
   "cell_type": "markdown",
   "metadata": {},
   "source": [
    "## Train-test split\n",
    "85% of the data is used for training and 15% for testing, with stratification based on the target label."
   ]
  },
  {
   "cell_type": "code",
   "execution_count": null,
   "metadata": {},
   "outputs": [],
   "source": [
    "X_train, X_test, y_train, y_test = train_test_split(\n",
    "    X, y.T, test_size=0.15, random_state=42, stratify=y.T\n",
    ")\n",
    "\n",
    "X_train = jnp.array(X_train.T)\n",
    "X_test = jnp.array(X_test.T)\n",
    "y_train = jnp.array(y_train.T)\n",
    "y_test = jnp.array(y_test.T)"
   ]
  },
  {
   "cell_type": "markdown",
   "metadata": {},
   "source": [
    "## Neural network training\n",
    "Architecture: Input → 64 → 16 → 1. Output layer uses sigmoid activation for binary classification."
   ]
  },
  {
   "cell_type": "code",
   "execution_count": null,
   "metadata": {},
   "outputs": [],
   "source": [
    "params = nn.treinar_rede(\n",
    "    matriz_entrada=X_train,\n",
    "    matriz_rotulos=y_train,\n",
    "    dimensoes_camadas=(X_train.shape[0], 64, 16, 1),\n",
    "    nome_ativacao_oculta=\"relu\",\n",
    "    nome_ativacao_saida=\"sigmoid\",\n",
    "    nome_funcao_erro=\"erro_binario_cruzado\",\n",
    "    taxa_aprendizado=0.01,\n",
    "    numero_epocas=1000,\n",
    "    tamanho_lote=128,\n",
    "    dropout_prob=0.0,\n",
    "    semente=42,\n",
    "    verbose=True,\n",
    ")"
   ]
  },
  {
   "cell_type": "markdown",
   "metadata": {},
   "source": [
    "## Performance evaluation\n",
    "Includes accuracy metrics and confusion matrix for both training and test data."
   ]
  },
  {
   "cell_type": "code",
   "execution_count": null,
   "metadata": {},
   "outputs": [],
   "source": [
    "y_pred_train = nn.prever(\n",
    "    X_train, params, nome_ativacao_oculta=\"relu\", nome_ativacao_saida=\"sigmoid\"\n",
    ")\n",
    "y_pred_test = nn.prever(\n",
    "    X_test, params, nome_ativacao_oculta=\"relu\", nome_ativacao_saida=\"sigmoid\"\n",
    ")\n",
    "\n",
    "acc_train = accuracy_score(np.array(y_train).flatten(), np.array(y_pred_train).flatten())\n",
    "acc_test = accuracy_score(np.array(y_test).flatten(), np.array(y_pred_test).flatten())\n",
    "\n",
    "tn, fp, fn, tp = confusion_matrix(np.array(y_test).flatten(), np.array(y_pred_test).flatten()).ravel()\n",
    "\n",
    "print(f\"Training accuracy: {acc_train:.4f}\")\n",
    "print(f\"Test accuracy:     {acc_test:.4f}\")\n",
    "print(f\"False Positives: {fp}, False Negatives: {fn}\")"
   ]
  },
  {
   "cell_type": "markdown",
   "metadata": {},
   "source": [
    "## Confusion matrix visualization"
   ]
  },
  {
   "cell_type": "code",
   "execution_count": null,
   "metadata": {},
   "outputs": [],
   "source": [
    "cm = np.array([[tn, fp], [fn, tp]])\n",
    "plt.figure(figsize=(4, 4))\n",
    "plt.imshow(cm, cmap=\"Blues\")\n",
    "for i in range(2):\n",
    "    for j in range(2):\n",
    "        plt.text(\n",
    "            j, i, cm[i, j],\n",
    "            ha=\"center\", va=\"center\",\n",
    "            color=\"white\" if cm[i, j] > cm.max() / 2 else \"black\",\n",
    "            fontsize=12\n",
    "        )\n",
    "plt.xticks([0, 1], [\"Negative\", \"Positive\"])\n",
    "plt.yticks([0, 1], [\"Negative\", \"Positive\"])\n",
    "plt.xlabel(\"Predicted\")\n",
    "plt.ylabel(\"Actual\")\n",
    "plt.title(\"Confusion Matrix - Test Set\")\n",
    "plt.tight_layout()\n",
    "plt.show()"
   ]
  }
 ],
 "metadata": {
  "kernelspec": {
   "display_name": "Python 3",
   "language": "python",
   "name": "python3"
  },
  "language_info": {
   "name": "python",
   "version": "3.11"
  }
 },
 "nbformat": 4,
 "nbformat_minor": 5
}
