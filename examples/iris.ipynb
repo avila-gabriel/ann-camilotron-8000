{
 "cells": [
  {
   "cell_type": "markdown",
   "id": "3b11802d",
   "metadata": {},
   "source": [
    "# Dataset Iris\n",
    "\n",
    "Este notebook implementa um pipeline de classificação multiclasse usando uma rede neural construída com JAX. O modelo serve como uma validação fundamental da nossa biblioteca ann.py, buscando classificar espécies de flores do gênero Íris com base em suas características de pétala e sépala.\n",
    "\n",
    "Fonte do Dataset: [Iris on Kaggle](https://www.kaggle.com/datasets/uciml/iris)"
   ]
  },
  {
   "cell_type": "markdown",
   "id": "93c8c0cc",
   "metadata": {},
   "source": [
    "## Importação de bibliotecas\n",
    "\n",
    "- `jax.numpy` para operações vetorizadas com JAX.\n",
    "- `matplotlib.pyplot` e `seaborn` para visualizações.\n",
    "- `pandas` para manipulação de dados.\n",
    "- `train_test_split` para particionar dados.\n",
    "- `ann` para funções de rede neural."
   ]
  },
  {
   "cell_type": "code",
   "execution_count": 1,
   "id": "e3bd09f6",
   "metadata": {},
   "outputs": [],
   "source": [
    "import pandas as pd\n",
    "import jax.numpy as jnp\n",
    "\n",
    "import matplotlib.pyplot as plt\n",
    "import seaborn as sns\n",
    "from sklearn.model_selection import train_test_split\n",
    "from sklearn.metrics import accuracy_score, classification_report, confusion_matrix\n",
    "\n",
    "import ann"
   ]
  },
  {
   "cell_type": "code",
   "execution_count": 2,
   "id": "dcadb347",
   "metadata": {},
   "outputs": [],
   "source": [
    "def codificar_rotulos_texto(rotulos_texto: pd.Series) -> tuple[jnp.ndarray, dict]:\n",
    "    \"\"\"\n",
    "    Converte rótulos de texto para inteiros e retorna o mapa de classes.\n",
    "    \"\"\"\n",
    "    classes_unicas = list(rotulos_texto.unique())\n",
    "    mapa_classes = {i: nome for i, nome in enumerate(classes_unicas)}\n",
    "    rotulos_inteiros = rotulos_texto.map({nome: i for i, nome in mapa_classes.items()})\n",
    "    return jnp.array(rotulos_inteiros.values), mapa_classes"
   ]
  },
  {
   "cell_type": "markdown",
   "id": "61214870",
   "metadata": {},
   "source": [
    "## Carregamento e preparação dos dados\n",
    "\n",
    "Carregamos o iris.csv e, em seguida, o separamos em duas matrizes distintas:\n",
    "- X (Features): As quatro colunas com as medidas das flores (comprimento e largura de pétalas e sépalas). Estas são as características que o modelo usará para aprender.\n",
    "- y (Alvo/Rótulo): A coluna Species, que contém a classe que queremos que o modelo aprenda a prever."
   ]
  },
  {
   "cell_type": "code",
   "execution_count": 3,
   "id": "4760ed10",
   "metadata": {},
   "outputs": [
    {
     "data": {
      "text/html": [
       "<div>\n",
       "<style scoped>\n",
       "    .dataframe tbody tr th:only-of-type {\n",
       "        vertical-align: middle;\n",
       "    }\n",
       "\n",
       "    .dataframe tbody tr th {\n",
       "        vertical-align: top;\n",
       "    }\n",
       "\n",
       "    .dataframe thead th {\n",
       "        text-align: right;\n",
       "    }\n",
       "</style>\n",
       "<table border=\"1\" class=\"dataframe\">\n",
       "  <thead>\n",
       "    <tr style=\"text-align: right;\">\n",
       "      <th></th>\n",
       "      <th>Id</th>\n",
       "      <th>SepalLengthCm</th>\n",
       "      <th>SepalWidthCm</th>\n",
       "      <th>PetalLengthCm</th>\n",
       "      <th>PetalWidthCm</th>\n",
       "      <th>Species</th>\n",
       "    </tr>\n",
       "  </thead>\n",
       "  <tbody>\n",
       "    <tr>\n",
       "      <th>0</th>\n",
       "      <td>1</td>\n",
       "      <td>5.1</td>\n",
       "      <td>3.5</td>\n",
       "      <td>1.4</td>\n",
       "      <td>0.2</td>\n",
       "      <td>Iris-setosa</td>\n",
       "    </tr>\n",
       "    <tr>\n",
       "      <th>1</th>\n",
       "      <td>2</td>\n",
       "      <td>4.9</td>\n",
       "      <td>3.0</td>\n",
       "      <td>1.4</td>\n",
       "      <td>0.2</td>\n",
       "      <td>Iris-setosa</td>\n",
       "    </tr>\n",
       "    <tr>\n",
       "      <th>2</th>\n",
       "      <td>3</td>\n",
       "      <td>4.7</td>\n",
       "      <td>3.2</td>\n",
       "      <td>1.3</td>\n",
       "      <td>0.2</td>\n",
       "      <td>Iris-setosa</td>\n",
       "    </tr>\n",
       "    <tr>\n",
       "      <th>3</th>\n",
       "      <td>4</td>\n",
       "      <td>4.6</td>\n",
       "      <td>3.1</td>\n",
       "      <td>1.5</td>\n",
       "      <td>0.2</td>\n",
       "      <td>Iris-setosa</td>\n",
       "    </tr>\n",
       "    <tr>\n",
       "      <th>4</th>\n",
       "      <td>5</td>\n",
       "      <td>5.0</td>\n",
       "      <td>3.6</td>\n",
       "      <td>1.4</td>\n",
       "      <td>0.2</td>\n",
       "      <td>Iris-setosa</td>\n",
       "    </tr>\n",
       "  </tbody>\n",
       "</table>\n",
       "</div>"
      ],
      "text/plain": [
       "   Id  SepalLengthCm  SepalWidthCm  PetalLengthCm  PetalWidthCm      Species\n",
       "0   1            5.1           3.5            1.4           0.2  Iris-setosa\n",
       "1   2            4.9           3.0            1.4           0.2  Iris-setosa\n",
       "2   3            4.7           3.2            1.3           0.2  Iris-setosa\n",
       "3   4            4.6           3.1            1.5           0.2  Iris-setosa\n",
       "4   5            5.0           3.6            1.4           0.2  Iris-setosa"
      ]
     },
     "execution_count": 3,
     "metadata": {},
     "output_type": "execute_result"
    }
   ],
   "source": [
    "df = pd.read_csv('../datasets/iris.csv')\n",
    "\n",
    "df.head()"
   ]
  },
  {
   "cell_type": "code",
   "execution_count": 4,
   "id": "14c51123",
   "metadata": {},
   "outputs": [
    {
     "name": "stdout",
     "output_type": "stream",
     "text": [
      "Features (X):\n",
      "   SepalLengthCm  SepalWidthCm  PetalLengthCm  PetalWidthCm\n",
      "0            5.1           3.5            1.4           0.2\n",
      "1            4.9           3.0            1.4           0.2\n",
      "\n",
      "Rótulos (y):\n",
      "0    Iris-setosa\n",
      "1    Iris-setosa\n",
      "Name: Species, dtype: object\n"
     ]
    }
   ],
   "source": [
    "X_df = df.drop(columns=['Id', 'Species'])\n",
    "y_texto = df['Species']\n",
    "\n",
    "print(\"Features (X):\")\n",
    "print(X_df.head(2))\n",
    "print(\"\\nRótulos (y):\")\n",
    "print(y_texto.head(2))"
   ]
  },
  {
   "cell_type": "markdown",
   "id": "ac87b755",
   "metadata": {},
   "source": [
    "## Pré-processamento\n",
    "- Normalização de X: As features são colocadas na mesma escala (entre 0 e 1) usando a técnica Min-Max. \n",
    "- Codificação de y: O rótulo y passa pela nossa função auxiliar para ser convertido em inteiros e, em seguida, pela função ann.codificar_one_hot."
   ]
  },
  {
   "cell_type": "code",
   "execution_count": 5,
   "id": "639568a4",
   "metadata": {},
   "outputs": [
    {
     "name": "stderr",
     "output_type": "stream",
     "text": [
      "WARNING:2025-06-30 11:38:53,947:jax._src.xla_bridge:791: An NVIDIA GPU may be present on this machine, but a CUDA-enabled jaxlib is not installed. Falling back to cpu.\n"
     ]
    },
    {
     "name": "stdout",
     "output_type": "stream",
     "text": [
      "Número de classes: 3\n",
      "Mapeamento de classes: {0: 'Iris-setosa', 1: 'Iris-versicolor', 2: 'Iris-virginica'}\n",
      "\n",
      "Shape de X normalizado: (4, 150)\n",
      "Shape de y em one-hot: (3, 150)\n"
     ]
    }
   ],
   "source": [
    "X = X_df.values.T\n",
    "X_min = X.min(axis=1, keepdims=True)\n",
    "X_max = X.max(axis=1, keepdims=True)\n",
    "X_norm = (X - X_min) / (X_max - X_min + 1e-8)\n",
    "\n",
    "y_inteiros, mapa_classes = codificar_rotulos_texto(y_texto)\n",
    "n_classes = len(mapa_classes)\n",
    "y_one_hot = ann.codificar_one_hot(y_inteiros, n_classes)\n",
    "\n",
    "print(f\"Número de classes: {n_classes}\")\n",
    "print(f\"Mapeamento de classes: {mapa_classes}\")\n",
    "print(f\"\\nShape de X normalizado: {X_norm.shape}\")\n",
    "print(f\"Shape de y em one-hot: {y_one_hot.shape}\")"
   ]
  },
  {
   "cell_type": "markdown",
   "id": "710f83cb",
   "metadata": {},
   "source": [
    "## Divisão treino-teste\n",
    "- 80% dos dados para treino e 20% para teste.\n",
    "- Usa `train_test_split` com `random_state=42` para reprodutibilidade."
   ]
  },
  {
   "cell_type": "code",
   "execution_count": 6,
   "id": "cc40a56d",
   "metadata": {},
   "outputs": [
    {
     "name": "stdout",
     "output_type": "stream",
     "text": [
      "Shapes após a divisão:\n",
      "X_train: (4, 120), y_train: (3, 120)\n",
      "X_test:  (4, 30), y_test:  (3, 30)\n"
     ]
    }
   ],
   "source": [
    "X_train, X_test, y_train, y_test = train_test_split(\n",
    "    X_norm.T, \n",
    "    y_one_hot.T, \n",
    "    test_size=0.2, \n",
    "    random_state=42, \n",
    "    stratify=y_inteiros\n",
    ")\n",
    "\n",
    "X_train, X_test = jnp.array(X_train.T), jnp.array(X_test.T)\n",
    "y_train, y_test = jnp.array(y_train.T), jnp.array(y_test.T)\n",
    "\n",
    "print(\"Shapes após a divisão:\")\n",
    "print(f\"X_train: {X_train.shape}, y_train: {y_train.shape}\")\n",
    "print(f\"X_test:  {X_test.shape}, y_test:  {y_test.shape}\")"
   ]
  },
  {
   "cell_type": "markdown",
   "id": "43e3de4c",
   "metadata": {},
   "source": [
    "## Treinamento da rede neural\n",
    "\n",
    "- Arquitetura: Entrada → 10 neurônios ocultos → 8 neurônios ocultos → 3 saídas.\n",
    "- Ativação oculta: ReLU\n",
    "- Ativação de saída: Softmax\n",
    "- Função de erro: Erro Categorial Cruzado\n",
    "- Taxa de aprendizado: 0.1\n",
    "- Número de épocas: 1000"
   ]
  },
  {
   "cell_type": "code",
   "execution_count": 7,
   "id": "5d24aa42",
   "metadata": {},
   "outputs": [
    {
     "name": "stdout",
     "output_type": "stream",
     "text": [
      "--- Iniciando Treinamento da Rede Neural ---\n",
      "Época  100/1000 - erro: 0.571009\n",
      "Época  200/1000 - erro: 0.389467\n",
      "Época  300/1000 - erro: 0.280276\n",
      "Época  400/1000 - erro: 0.197679\n",
      "Época  500/1000 - erro: 0.140034\n",
      "Época  600/1000 - erro: 0.103747\n",
      "Época  700/1000 - erro: 0.082845\n",
      "Época  800/1000 - erro: 0.070933\n",
      "Época  900/1000 - erro: 0.063746\n",
      "Época 1000/1000 - erro: 0.059008\n",
      "--- Treinamento Concluído ---\n"
     ]
    }
   ],
   "source": [
    "print(\"--- Iniciando Treinamento da Rede Neural ---\")\n",
    "camadas = [X_train.shape[0], 10, 8, n_classes]\n",
    "\n",
    "parametros_treinados = ann.treinar_rede(\n",
    "    matriz_entrada=X_train,\n",
    "    matriz_rotulos=y_train,\n",
    "    dimensoes_camadas=camadas,\n",
    "    nome_ativacao_oculta=\"relu\",\n",
    "    nome_ativacao_saida=\"softmax\",\n",
    "    nome_funcao_erro=\"erro_categorial_cruzado\",\n",
    "    taxa_aprendizado=0.1,\n",
    "    numero_epocas=1000,\n",
    "    verbose=True,\n",
    ")\n",
    "print(\"--- Treinamento Concluído ---\")"
   ]
  },
  {
   "cell_type": "markdown",
   "id": "1f5c8fac",
   "metadata": {},
   "source": [
    "## Predição\n",
    "- Gera previsões para treino e teste."
   ]
  },
  {
   "cell_type": "code",
   "execution_count": 8,
   "id": "7f781a20",
   "metadata": {},
   "outputs": [
    {
     "name": "stdout",
     "output_type": "stream",
     "text": [
      "Previsões realizadas no conjunto de teste.\n",
      "Primeiras 10 previsões: [0 2 1 1 0 1 0 0 2 1]\n"
     ]
    }
   ],
   "source": [
    "y_pred_test = ann.prever(\n",
    "    X_test, \n",
    "    parametros_treinados, \n",
    "    nome_ativacao_oculta=\"relu\", \n",
    "    nome_ativacao_saida=\"softmax\"\n",
    ")\n",
    "\n",
    "print(\"Previsões realizadas no conjunto de teste.\")\n",
    "print(f\"Primeiras 10 previsões: {y_pred_test[:10]}\")"
   ]
  },
  {
   "cell_type": "markdown",
   "id": "b30508a4",
   "metadata": {},
   "source": [
    "## Avaliação de desempenho"
   ]
  },
  {
   "cell_type": "code",
   "execution_count": 9,
   "id": "3c5a91fd",
   "metadata": {},
   "outputs": [
    {
     "name": "stdout",
     "output_type": "stream",
     "text": [
      "--- Avaliação do Modelo no Conjunto de Teste ---\n",
      "\n",
      "Acurácia: 96.67%\n",
      "\n",
      "Relatório de Classificação:\n",
      "                 precision    recall  f1-score   support\n",
      "\n",
      "    Iris-setosa       1.00      1.00      1.00        10\n",
      "Iris-versicolor       1.00      0.90      0.95        10\n",
      " Iris-virginica       0.91      1.00      0.95        10\n",
      "\n",
      "       accuracy                           0.97        30\n",
      "      macro avg       0.97      0.97      0.97        30\n",
      "   weighted avg       0.97      0.97      0.97        30\n",
      "\n"
     ]
    }
   ],
   "source": [
    "y_test_inteiros = jnp.argmax(y_test, axis=0)\n",
    "\n",
    "print(\"--- Avaliação do Modelo no Conjunto de Teste ---\")\n",
    "acuracia = accuracy_score(y_test_inteiros, y_pred_test)\n",
    "print(f\"\\nAcurácia: {acuracia:.2%}\") # Formata como porcentagem\n",
    "\n",
    "print(\"\\nRelatório de Classificação:\")\n",
    "print(classification_report(y_test_inteiros, y_pred_test, target_names=mapa_classes.values()))"
   ]
  },
  {
   "cell_type": "markdown",
   "id": "b73deb62",
   "metadata": {},
   "source": [
    "## Análise Visual: Matriz de Confusão"
   ]
  },
  {
   "cell_type": "code",
   "execution_count": 10,
   "id": "3456f939",
   "metadata": {},
   "outputs": [
    {
     "data": {
      "image/png": "[encoded data removed]",
      "text/plain": [
       "<Figure size 700x500 with 2 Axes>"
      ]
     },
     "metadata": {},
     "output_type": "display_data"
    }
   ],
   "source": [
    "cm = confusion_matrix(y_test_inteiros, y_pred_test)\n",
    "\n",
    "plt.figure(figsize=(7, 5))\n",
    "sns.heatmap(cm, annot=True, fmt='d', cmap='Blues', \n",
    "            xticklabels=mapa_classes.values(), \n",
    "            yticklabels=mapa_classes.values())\n",
    "plt.xlabel('Predito')\n",
    "plt.ylabel('Real')\n",
    "plt.title('Matriz de Confusão')\n",
    "plt.show()"
   ]
  }
 ],
 "metadata": {
  "kernelspec": {
   "display_name": ".venv",
   "language": "python",
   "name": "python3"
  },
  "language_info": {
   "codemirror_mode": {
    "name": "ipython",
    "version": 3
   },
   "file_extension": ".py",
   "mimetype": "text/x-python",
   "name": "python",
   "nbconvert_exporter": "python",
   "pygments_lexer": "ipython3",
   "version": "3.11.13"
  }
 },
 "nbformat": 4,
 "nbformat_minor": 5
}
