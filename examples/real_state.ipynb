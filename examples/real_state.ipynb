{
 "cells": [
  {
   "cell_type": "markdown",
   "id": "bd962eb5",
   "metadata": {},
   "source": [
    "# Regressão Imobiliária"
   ]
  },
  {
   "cell_type": "code",
   "execution_count": null,
   "id": "4d0c7219",
   "metadata": {},
   "outputs": [],
   "source": [
    "import jax.numpy as jnp\n",
    "import matplotlib.pyplot as plt\n",
    "import numpy as np\n",
    "import pandas as pd\n",
    "from sklearn.metrics import r2_score\n",
    "from sklearn.model_selection import train_test_split\n",
    "\n",
    "import src.lib.nn_functional as nn"
   ]
  },
  {
   "cell_type": "code",
   "execution_count": null,
   "id": "41e109bb",
   "metadata": {},
   "outputs": [],
   "source": [
    "df = pd.read_csv(\"datasets/real_estate_dataset.csv\")\n",
    "\n",
    "X_df = df.drop(columns=[\"ID\", \"Price\"])\n",
    "y = df[\"Price\"].values.reshape(1, -1)\n",
    "X = X_df.values.T"
   ]
  },
  {
   "cell_type": "code",
   "execution_count": null,
   "id": "5f3ca13a",
   "metadata": {},
   "outputs": [],
   "source": [
    "X_min = X.min(axis=1, keepdims=True)\n",
    "X_max = X.max(axis=1, keepdims=True)\n",
    "X_norm = (X - X_min) / (X_max - X_min + 1e-8)\n",
    "y_min = y.min()\n",
    "y_max = y.max()\n",
    "y_norm = (y - y_min) / (y_max - y_min + 1e-8)"
   ]
  },
  {
   "cell_type": "code",
   "execution_count": null,
   "id": "f8d193ec",
   "metadata": {},
   "outputs": [],
   "source": [
    "X_train, X_test, y_train, y_test = train_test_split(\n",
    "    X_norm.T, y_norm.T, test_size=0.2, random_state=1\n",
    ")\n",
    "X_train = jnp.array(X_train.T)\n",
    "X_test = jnp.array(X_test.T)\n",
    "y_train = jnp.array(y_train.T)\n",
    "y_test = jnp.array(y_test.T)\n",
    "\n",
    "print(\"Shapes de treino:\", X_train.shape, y_train.shape)"
   ]
  },
  {
   "cell_type": "code",
   "execution_count": null,
   "id": "1156e56d",
   "metadata": {},
   "outputs": [],
   "source": [
    "params = nn.treinar_rede(\n",
    "    matriz_entrada=X_train,\n",
    "    matriz_rotulos=y_train,\n",
    "    dimensoes_camadas=(\n",
    "        X_train.shape[0],\n",
    "        10,\n",
    "        1,\n",
    "    ),\n",
    "    nome_ativacao_oculta=\"relu\",\n",
    "    nome_ativacao_saida=\"linear\",\n",
    "    nome_funcao_erro=\"erro_mse\",\n",
    "    taxa_aprendizado=0.02,\n",
    "    numero_epocas=2000,\n",
    "    tamanho_lote=16,\n",
    "    verbose=True,\n",
    ")"
   ]
  },
  {
   "cell_type": "code",
   "execution_count": null,
   "id": "a58c88a1",
   "metadata": {},
   "outputs": [],
   "source": [
    "y_pred_train = nn.prever(\n",
    "    X_train, params, nome_ativacao_oculta=\"relu\", nome_ativacao_saida=\"linear\"\n",
    ")\n",
    "y_pred_test = nn.prever(\n",
    "    X_test, params, nome_ativacao_oculta=\"relu\", nome_ativacao_saida=\"linear\"\n",
    ")"
   ]
  },
  {
   "cell_type": "code",
   "execution_count": null,
   "id": "bd9a23fd",
   "metadata": {},
   "outputs": [],
   "source": [
    "y_pred_train_real = np.array(y_pred_train) * (y_max - y_min) + y_min\n",
    "y_train_real = np.array(y_train) * (y_max - y_min) + y_min\n",
    "y_pred_test_real = np.array(y_pred_test) * (y_max - y_min) + y_min\n",
    "y_test_real = np.array(y_test) * (y_max - y_min) + y_min"
   ]
  },
  {
   "cell_type": "code",
   "execution_count": null,
   "id": "4c1611b6",
   "metadata": {},
   "outputs": [],
   "source": [
    "mse_train = np.mean((y_pred_train_real - y_train_real) ** 2)\n",
    "mse_test = np.mean((y_pred_test_real - y_test_real) ** 2)\n",
    "r2_train = r2_score(y_train_real.flatten(), y_pred_train_real.flatten())\n",
    "r2_test = r2_score(y_test_real.flatten(), y_pred_test_real.flatten())\n",
    "\n",
    "print(f\"MSE treino (real): {mse_train:.2f}\")\n",
    "print(f\"MSE teste  (real): {mse_test:.2f}\")\n",
    "print(f\"R² treino:         {r2_train:.4f}\")\n",
    "print(f\"R² teste:          {r2_test:.4f}\")"
   ]
  },
  {
   "cell_type": "code",
   "execution_count": null,
   "id": "33921c4c",
   "metadata": {},
   "outputs": [],
   "source": [
    "plt.figure(figsize=(7, 6))\n",
    "plt.scatter(y_test_real.flatten(), y_pred_test_real.flatten(), alpha=0.7, edgecolor=\"k\")\n",
    "plt.plot(\n",
    "    [y_test_real.min(), y_test_real.max()],\n",
    "    [y_test_real.min(), y_test_real.max()],\n",
    "    \"r--\",\n",
    "    lw=2,\n",
    ")\n",
    "plt.xlabel(\"Preço real\")\n",
    "plt.ylabel(\"Preço predito pela RNA\")\n",
    "plt.title(\"Regressão Imobiliária: Real vs. Predito (teste)\")\n",
    "plt.grid(True)\n",
    "plt.tight_layout()\n",
    "plt.show()"
   ]
  }
 ],
 "metadata": {
  "kernelspec": {
   "display_name": "Python 3",
   "language": "python",
   "name": "python3"
  },
  "language_info": {
   "name": "python",
   "version": "3.11"
  }
 },
 "nbformat": 4,
 "nbformat_minor": 5
}
