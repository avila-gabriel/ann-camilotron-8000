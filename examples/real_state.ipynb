{
  "cells": [
    {
      "cell_type": "markdown",
      "metadata": {},
      "source": [
        "# Regressão Imobiliária\n",
        "\n",
        "Este notebook implementa um pipeline de regressão usando uma rede neural construída com JAX. O modelo prevê preços de imóveis com base em características do conjunto de dados de mercado imobiliário.\n",
        "\n",
        "Dataset source: [Housing Prices Regression Dataset on Kaggle](https://www.kaggle.com/datasets/denkuznetz/housing-prices-regression/data)"
      ]
    },
    {
      "cell_type": "markdown",
      "metadata": {},
      "source": [
        "## Importação de bibliotecas\n",
        "- `jax.numpy` para operações vetorizadas com JAX.\n",
        "- `matplotlib.pyplot` para visualizações.\n",
        "- `numpy` e `pandas` para manipulação de dados.\n",
        "- `r2_score` do scikit-learn para avaliar desempenho.\n",
        "- `train_test_split` para particionar dados.\n",
        "- `src.lib.nn_functional` para funções de rede neural."
      ]
    },
    {
      "cell_type": "code",
      "execution_count": null,
      "metadata": {},
      "outputs": [],
      "source": [
        "import jax.numpy as jnp\n",
        "import matplotlib.pyplot as plt\n",
        "import numpy as np\n",
        "import pandas as pd\n",
        "from sklearn.metrics import r2_score\n",
        "from sklearn.model_selection import train_test_split\n",
        "\n",
        "import src.lib.nn_functional as nn"
      ]
    },
    {
      "cell_type": "markdown",
      "metadata": {},
      "source": [
        "## Carregamento e preparação dos dados\n",
        "- Lê o CSV do conjunto de dados.\n",
        "- Separa as features (`X_df`) removendo `ID` e `Price`.\n",
        "- Extrai o vetor de preços (`y`) e coloca em formato de matriz."
      ]
    },
    {
      "cell_type": "code",
      "execution_count": null,
      "metadata": {},
      "outputs": [],
      "source": [
        "df = pd.read_csv(\"datasets/real_estate_dataset.csv\")\n",
        "\n",
        "X_df = df.drop(columns=[\"ID\", \"Price\"])\n",
        "y = df[\"Price\"].values.reshape(1, -1)\n",
        "X = X_df.values.T"
      ]
    },
    {
      "cell_type": "markdown",
      "metadata": {},
      "source": [
        "## Pré-processamento\n",
        "- Normalização min-max de cada feature de entrada.\n",
        "- Normalização do alvo (preço) para faixa [0,1]."
      ]
    },
    {
      "cell_type": "code",
      "execution_count": null,
      "metadata": {},
      "outputs": [],
      "source": [
        "X_min = X.min(axis=1, keepdims=True)\n",
        "X_max = X.max(axis=1, keepdims=True)\n",
        "X_norm = (X - X_min) / (X_max - X_min + 1e-8)\n",
        "y_min = y.min()\n",
        "y_max = y.max()\n",
        "y_norm = (y - y_min) / (y_max - y_min + 1e-8)"
      ]
    },
    {
      "cell_type": "markdown",
      "metadata": {},
      "source": [
        "## Divisão treino-teste\n",
        "- 80% dos dados para treino e 20% para teste.\n",
        "- Usa `train_test_split` com `random_state=1` para reprodutibilidade."
      ]
    },
    {
      "cell_type": "code",
      "execution_count": null,
      "metadata": {},
      "outputs": [],
      "source": [
        "X_train, X_test, y_train, y_test = train_test_split(\n",
        "    X_norm.T, y_norm.T, test_size=0.2, random_state=1\n",
        ")\n",
        "X_train = jnp.array(X_train.T)\n",
        "X_test = jnp.array(X_test.T)\n",
        "y_train = jnp.array(y_train.T)\n",
        "y_test = jnp.array(y_test.T)\n",
        "\n",
        "print(\"Shapes de treino:\", X_train.shape, y_train.shape)"
      ]
    },
    {
      "cell_type": "markdown",
      "metadata": {},
      "source": [
        "## Treinamento da rede neural\n",
        "- Arquitetura: Entrada → 10 neurônios ocultos → 1 saída.\n",
        "- Ativação oculta: ReLU; saída: ReLU.\n",
        "- Função de erro: MSE.\n",
        "- Taxa de aprendizado, número de épocas e tamanho do lote definidos."
      ]
    },
    {
      "cell_type": "code",
      "execution_count": null,
      "metadata": {},
      "outputs": [],
      "source": [
        "params = nn.treinar_rede(\n",
        "    matriz_entrada=X_train,\n",
        "    matriz_rotulos=y_train,\n",
        "    dimensoes_camadas=(\n",
        "        X_train.shape[0],\n",
        "        10,\n",
        "        1,\n",
        "    ),\n",
        "    nome_ativacao_oculta=\"relu\",\n",
        "    nome_ativacao_saida=\"relu\",\n",
        "    nome_funcao_erro=\"erro_mse\",\n",
        "    taxa_aprendizado=0.02,\n",
        "    numero_epocas=2000,\n",
        "    tamanho_lote=16,\n",
        "    verbose=True,\n",
        ")"
      ]
    },
    {
      "cell_type": "markdown",
      "metadata": {},
      "source": [
        "## Predição\n",
        "- Gera previsões normalizadas para treino e teste."
      ]
    },
    {
      "cell_type": "code",
      "execution_count": null,
      "metadata": {},
      "outputs": [],
      "source": [
        "y_pred_train = nn.prever(\n",
        "    X_train, params, nome_ativacao_oculta=\"relu\", nome_ativacao_saida=\"relu\"\n",
        ")\n",
        "y_pred_test = nn.prever(\n",
        "    X_test, params, nome_ativacao_oculta=\"relu\", nome_ativacao_saida=\"relu\"\n",
        ")"
      ]
    },
    {
      "cell_type": "markdown",
      "metadata": {},
      "source": [
        "## Denormalização dos resultados\n",
        "- Converte as previsões normalizadas de volta para valores reais de preço."
      ]
    },
    {
      "cell_type": "code",
      "execution_count": null,
      "metadata": {},
      "outputs": [],
      "source": [
        "y_pred_train_real = np.array(y_pred_train) * (y_max - y_min) + y_min\n",
        "y_train_real = np.array(y_train) * (y_max - y_min) + y_min\n",
        "y_pred_test_real = np.array(y_pred_test) * (y_max - y_min) + y_min\n",
        "y_test_real = np.array(y_test) * (y_max - y_min) + y_min"
      ]
    },
    {
      "cell_type": "markdown",
      "metadata": {},
      "source": [
        "## Avaliação de desempenho\n",
        "- Calcula MSE e R² para teste usando `r2_score`."
      ]
    },
    {
      "cell_type": "code",
      "execution_count": null,
      "metadata": {},
      "outputs": [],
      "source": [
        "mse_test = np.mean((y_pred_test_real - y_test_real) ** 2)\n",
        "r2_test = r2_score(y_test_real.flatten(), y_pred_test_real.flatten())\n",
        "\n",
        "print(f\"MSE teste  (real): {mse_test:.2f}\")\n",
        "print(f\"R² teste:          {r2_test:.4f}\")"
      ]
    },
    {
      "cell_type": "markdown",
      "metadata": {},
      "source": [
        "## Visualização: Real vs. Predito\n",
        "- Gráfico de dispersão comparando preços reais e previstos no conjunto de teste."
      ]
    },
    {
      "cell_type": "code",
      "execution_count": null,
      "metadata": {},
      "outputs": [],
      "source": [
        "plt.figure(figsize=(7, 6))\n",
        "plt.scatter(y_test_real.flatten(), y_pred_test_real.flatten(), alpha=0.7, edgecolor=\"k\")\n",
        "plt.plot(\n",
        "    [y_test_real.min(), y_test_real.max()],\n",
        "    [y_test_real.min(), y_test_real.max()],\n",
        "    \"r--\",\n",
        "    lw=2,\n",
        ")\n",
        "plt.xlabel(\"Preço real\")\n",
        "plt.ylabel(\"Preço predito pela RNA\")\n",
        "plt.title(\"Regressão Imobiliária: Real vs. Predito (teste)\")\n",
        "plt.grid(True)\n",
        "plt.tight_layout()\n",
        "plt.show()"
      ]
    }
  ],
  "metadata": {
    "kernelspec": {
      "display_name": "Python 3",
      "language": "python",
      "name": "python3"
    },
    "language_info": {
      "name": "python",
      "version": "3.11"
    }
  },
  "nbformat": 4,
  "nbformat_minor": 5
}
